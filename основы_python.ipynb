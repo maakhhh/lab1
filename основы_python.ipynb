{
 "cells": [
  {
   "cell_type": "code",
   "execution_count": 16,
   "metadata": {},
   "outputs": [],
   "source": [
    "import unittest\n",
    "import math"
   ]
  },
  {
   "cell_type": "markdown",
   "metadata": {
    "id": "M-DGa20PaHnu"
   },
   "source": [
    "#Задача 1\n",
    "Написать функцию на вход которой подается строка, состоящая из латинских букв.\n",
    "Функция должна вернуть количество гласных букв (a, e, i, o, u) в этой строке. Написать тесты для кода"
   ]
  },
  {
   "cell_type": "code",
   "execution_count": 10,
   "metadata": {
    "id": "XvX8X_JJ6PCb"
   },
   "outputs": [
    {
     "name": "stderr",
     "output_type": "stream",
     "text": [
      ".........\n",
      "----------------------------------------------------------------------\n",
      "Ran 9 tests in 0.003s\n",
      "\n",
      "OK\n"
     ]
    },
    {
     "data": {
      "text/plain": [
       "<unittest.main.TestProgram at 0x1a22663bce0>"
      ]
     },
     "execution_count": 10,
     "metadata": {},
     "output_type": "execute_result"
    }
   ],
   "source": [
    "def count_gl(stroka):\n",
    "    count = 0\n",
    "    for i in stroka:\n",
    "        if i in \"AEIOUaeiou\":\n",
    "            count += 1\n",
    "    return count\n",
    "\n",
    "class TestCountGl(unittest.TestCase):\n",
    "  def test_simple(self):\n",
    "      self.assertEqual(count_gl(\"a\"), 1)\n",
    "  def test_many_gl(self):\n",
    "      self.assertEqual(count_gl(\"AAAAEEEUUU\"), 10)\n",
    "  def test_with_sogl(self):\n",
    "      self.assertEqual(count_gl(\"AAAAEEEUUUGGGGGGGGGRRRRR\"), 10)\n",
    "  def test_with_upper_and_lower(self):\n",
    "      self.assertEqual(count_gl(\"AuAi\"), 4)\n",
    "  def test_with_no_chars(self):\n",
    "      self.assertEqual(count_gl(\"GGGGGGGGGGG\"), 0)\n",
    "\n",
    "unittest.main(argv=[''], exit=False)"
   ]
  },
  {
   "cell_type": "markdown",
   "metadata": {
    "id": "t2ClV_Y0bbr6"
   },
   "source": [
    "# Задача 2\n",
    "Написать функцию на вход, которой подается строка. Функция должна вернуть true, если\n",
    "каждый символ в строке встречается только 1 раз, иначе должна вернуть false. Написать тесты для кода"
   ]
  },
  {
   "cell_type": "code",
   "execution_count": 9,
   "metadata": {
    "id": "FppbECao6VIz"
   },
   "outputs": [
    {
     "name": "stderr",
     "output_type": "stream",
     "text": [
      ".........\n",
      "----------------------------------------------------------------------\n",
      "Ran 9 tests in 0.003s\n",
      "\n",
      "OK\n"
     ]
    },
    {
     "data": {
      "text/plain": [
       "<unittest.main.TestProgram at 0x1a2265dbd10>"
      ]
     },
     "execution_count": 9,
     "metadata": {},
     "output_type": "execute_result"
    }
   ],
   "source": [
    "def is_every_char_1(text):\n",
    "    chars = set()\n",
    "    for i in text:\n",
    "        chars.add(i)\n",
    "    return len(text) == len(chars)\n",
    "    \n",
    "class TestIsEveryChar1(unittest.TestCase):\n",
    "  def test_simple(self):\n",
    "      self.assertEqual(is_every_char_1(\"a\"), True)\n",
    "  def test_many_chars(self):\n",
    "      self.assertEqual(is_every_char_1(\"qwertyuiopasdfgh\"), True)\n",
    "  def test_uppers_with_lowers(self):\n",
    "      self.assertEqual(is_every_char_1(\"aA\"), True)\n",
    "  def test_no(self):\n",
    "      self.assertEqual(is_every_char_1(\"aaa\"), False)\n",
    "\n",
    "\n",
    "unittest.main(argv=[''], exit=False)\n"
   ]
  },
  {
   "cell_type": "markdown",
   "metadata": {
    "id": "udRiIK1cdt6E"
   },
   "source": [
    "# Задача 3\n",
    "Написать функцию, которая принимает положительное число и возвращает количество\n",
    "бит равных 1 в этом числе. Написать тесты для кода"
   ]
  },
  {
   "cell_type": "code",
   "execution_count": 12,
   "metadata": {
    "id": "6tkfDJRz6dp_"
   },
   "outputs": [
    {
     "name": "stderr",
     "output_type": "stream",
     "text": [
      "............\n",
      "----------------------------------------------------------------------\n",
      "Ran 12 tests in 0.003s\n",
      "\n",
      "OK\n"
     ]
    },
    {
     "data": {
      "text/plain": [
       "<unittest.main.TestProgram at 0x1a226639480>"
      ]
     },
     "execution_count": 12,
     "metadata": {},
     "output_type": "execute_result"
    }
   ],
   "source": [
    "def how_many_bit(num):\n",
    "    return bin(num).count(\"1\")\n",
    "\n",
    "class TestHowManyBit(unittest.TestCase):\n",
    "  def test_simple(self):\n",
    "      self.assertEqual(how_many_bit(0), 0)\n",
    "  def test_1(self):\n",
    "      self.assertEqual(how_many_bit(1), 1)\n",
    "  def test_big_number(self):\n",
    "      self.assertEqual(how_many_bit(1123), 5)\n",
    "\n",
    "\n",
    "\n",
    "unittest.main(argv=[''], exit=False)"
   ]
  },
  {
   "cell_type": "markdown",
   "metadata": {
    "id": "26dDUz-Ae17N"
   },
   "source": [
    "# Задача 4\n",
    "Написать функцию, которая принимает положительное число. Функция должна вернуть то,\n",
    "сколько раз необходимо перемножать цифры числа или результат перемножения, чтобы\n",
    "получилось число состоящее из одной цифры.\n",
    "Например, для входного числа:\n",
    "· 39 функция должна вернуть 3, так как 3*9=27 => 2*7=14 => 1*4=4\n",
    "· 4 функция должна вернуть 0, так как число уже состоит из одной цифры\n",
    "· 999 функция должна вернуть 4, так как 9*9*9=729 => 7*2*9=126 => 1*2*6=12 =>\n",
    "1*2=2. Написать тесты для кода"
   ]
  },
  {
   "cell_type": "code",
   "execution_count": 14,
   "metadata": {
    "id": "BH1A_Mgi6i4G"
   },
   "outputs": [
    {
     "name": "stderr",
     "output_type": "stream",
     "text": [
      "...............\n",
      "----------------------------------------------------------------------\n",
      "Ran 15 tests in 0.005s\n",
      "\n",
      "OK\n"
     ]
    },
    {
     "data": {
      "text/plain": [
       "<unittest.main.TestProgram at 0x1a226366b50>"
      ]
     },
     "execution_count": 14,
     "metadata": {},
     "output_type": "execute_result"
    }
   ],
   "source": [
    "def magic(n):\n",
    "    count = 0\n",
    "    while len(str(n)) != 1:\n",
    "        count += 1\n",
    "        temp = 1\n",
    "        for i in str(n):\n",
    "            temp *= int(i)\n",
    "        n = temp\n",
    "    return count\n",
    "\n",
    "class TestMagic(unittest.TestCase):\n",
    "  def test_simple(self):\n",
    "      self.assertEqual(magic(4), 0)\n",
    "  def test_big(self):\n",
    "      self.assertEqual(magic(39), 3)\n",
    "  def test_big_number(self):\n",
    "      self.assertEqual(magic(999), 4)\n",
    "\n",
    "\n",
    "\n",
    "unittest.main(argv=[''], exit=False)\n",
    "        "
   ]
  },
  {
   "cell_type": "markdown",
   "metadata": {
    "id": "0nS-kIa8g8vd"
   },
   "source": [
    "# Задача 5\n",
    "Написать функцию, которая принимает два целочисленных вектора одинаковой длины и\n",
    "возвращает среднеквадратическое отклонение двух векторов. Написать тесты для кода"
   ]
  },
  {
   "cell_type": "code",
   "execution_count": 18,
   "metadata": {
    "id": "8iphx4LM6xbx"
   },
   "outputs": [
    {
     "name": "stderr",
     "output_type": "stream",
     "text": [
      ".................\n",
      "----------------------------------------------------------------------\n",
      "Ran 17 tests in 0.005s\n",
      "\n",
      "OK\n"
     ]
    },
    {
     "data": {
      "text/plain": [
       "<unittest.main.TestProgram at 0x1a226367650>"
      ]
     },
     "execution_count": 18,
     "metadata": {},
     "output_type": "execute_result"
    }
   ],
   "source": [
    "def mse(pred, true):\n",
    "    squared_errors = [(x - y) ** 2 for x, y in zip(pred, true)]\n",
    "    mean_squared_error = sum(squared_errors) / len(pred)\n",
    "    return math.sqrt(mean_squared_error)\n",
    "\n",
    "class TestMSE(unittest.TestCase):\n",
    "  def test_identical_vectors(self):\n",
    "      self.assertEqual(mse([1, 2, 3], [1, 2, 3]), 0.0)\n",
    "  def test_different_vectors(self):\n",
    "      self.assertTrue(math.isclose(mse([1, 2, 3], [4, 5, 6]), 3.0))\n",
    "\n",
    "\n",
    "\n",
    "unittest.main(argv=[''], exit=False)"
   ]
  },
  {
   "cell_type": "markdown",
   "metadata": {
    "id": "vpIPKL439zkw"
   },
   "source": [
    "# Задача 6\n",
    "Написать функцию, принимающая целое положительное число. Функция должна вернуть\n",
    "строку вида “(n1**p1)(n2**p2)…(nk**pk)” представляющая разложение числа на простые\n",
    "множители (если pi == 1, то выводить только ni).\n",
    "Например, для числа 86240 функция должна вернуть “(2**5)(5)(7**2)(11)”. Написать тесты для кода"
   ]
  },
  {
   "cell_type": "code",
   "execution_count": 20,
   "metadata": {
    "id": "pFebmcZk94Jw"
   },
   "outputs": [
    {
     "name": "stderr",
     "output_type": "stream",
     "text": [
      "....................\n",
      "----------------------------------------------------------------------\n",
      "Ran 20 tests in 0.006s\n",
      "\n",
      "OK\n"
     ]
    },
    {
     "data": {
      "text/plain": [
       "<unittest.main.TestProgram at 0x1a226366e50>"
      ]
     },
     "execution_count": 20,
     "metadata": {},
     "output_type": "execute_result"
    }
   ],
   "source": [
    "def prime_factors(n):\n",
    "    factors = []\n",
    "    d = 2\n",
    "    while d * d <= n:\n",
    "        if n % d == 0:\n",
    "            p = 0\n",
    "            while n % d == 0:\n",
    "                n = n // d\n",
    "                p += 1\n",
    "            if p > 1:\n",
    "                factors.append(f\"({d}**{p})\")\n",
    "            else:\n",
    "                factors.append(f\"({d})\")\n",
    "        d += 1\n",
    "    \n",
    "    if n > 1:\n",
    "        factors.append(f\"({n})\")\n",
    "    \n",
    "    return \"\".join(factors)\n",
    "\n",
    "class TestPrimeFactors(unittest.TestCase):\n",
    "    def test_86240(self):\n",
    "        self.assertEqual(prime_factors(86240), \"(2**5)(5)(7**2)(11)\")\n",
    "    \n",
    "    def test_12(self):\n",
    "        self.assertEqual(prime_factors(12), \"(2**2)(3)\")\n",
    "    \n",
    "    def test_prime_number(self):\n",
    "        self.assertEqual(prime_factors(7), \"(7)\")\n",
    "    \n",
    "\n",
    "unittest.main(argv=[''], exit=False)"
   ]
  },
  {
   "cell_type": "markdown",
   "metadata": {
    "id": "ps2s0BudX7A2"
   },
   "source": [
    "# Задача 7\n",
    "Написать функцию, принимающая целое число n, задающее количество кубиков. Функция\n",
    "должна определить, можно ли из данного кол-ва кубиков построить пирамиду, то есть\n",
    "можно ли представить число n как 1^2+2^2+3^2+…+k^2. Если можно, то функция должна\n",
    "вернуть k, иначе строку “It is impossible”. Написать тесты для кода"
   ]
  },
  {
   "cell_type": "code",
   "execution_count": 23,
   "metadata": {
    "id": "3YPjEXxhX_YT"
   },
   "outputs": [
    {
     "name": "stderr",
     "output_type": "stream",
     "text": [
      ".......................\n",
      "----------------------------------------------------------------------\n",
      "Ran 23 tests in 0.006s\n",
      "\n",
      "OK\n"
     ]
    },
    {
     "data": {
      "text/plain": [
       "<unittest.main.TestProgram at 0x1a226367450>"
      ]
     },
     "execution_count": 23,
     "metadata": {},
     "output_type": "execute_result"
    }
   ],
   "source": [
    "def pyramid(n):\n",
    "    if n <= 0:\n",
    "        return \"It is impossible\"\n",
    "    \n",
    "    k = 1\n",
    "    total = 0\n",
    "    while True:\n",
    "        total += k ** 2\n",
    "        if total == n:\n",
    "            return k\n",
    "        if total > n:\n",
    "            return \"It is impossible\"\n",
    "        k += 1\n",
    "\n",
    "class TestPyramidCubes(unittest.TestCase):\n",
    "    def test_valid_pyramid(self):\n",
    "        self.assertEqual(pyramid(14), 3)\n",
    "        self.assertEqual(pyramid(30), 4)\n",
    "    \n",
    "    def test_impossible_cases(self):\n",
    "        self.assertEqual(pyramid(10), \"It is impossible\")\n",
    "        self.assertEqual(pyramid(0), \"It is impossible\")\n",
    "    \n",
    "    def test_edge_cases(self):\n",
    "        self.assertEqual(pyramid(1), 1)\n",
    "        self.assertEqual(pyramid(-5), \"It is impossible\")\n",
    "\n",
    "unittest.main(argv=[''], exit=False)"
   ]
  },
  {
   "cell_type": "markdown",
   "metadata": {
    "id": "KeKgmIdAQMEJ"
   },
   "source": [
    "# Задача 8\n",
    "Функция принимает на вход положительное число и определяет является ли оно сбалансированным, т.е. сумма цифр до средних равна сумме цифр после. Средними в случае нечетного числа цифр считать одну цифру, в случае четного - две средних. Написать тесты для кода"
   ]
  },
  {
   "cell_type": "code",
   "execution_count": 24,
   "metadata": {
    "id": "gMAAqtqlQrZt"
   },
   "outputs": [
    {
     "name": "stderr",
     "output_type": "stream",
     "text": [
      ".............................\n",
      "----------------------------------------------------------------------\n",
      "Ran 29 tests in 0.008s\n",
      "\n",
      "OK\n"
     ]
    },
    {
     "data": {
      "text/plain": [
       "<unittest.main.TestProgram at 0x1a2266a0950>"
      ]
     },
     "execution_count": 24,
     "metadata": {},
     "output_type": "execute_result"
    }
   ],
   "source": [
    "def is_balanced_number(n):\n",
    "    digits = str(n)\n",
    "    length = len(digits)\n",
    "    \n",
    "    if length <= 2:\n",
    "        return True \n",
    "    \n",
    "    if length % 2 == 1:\n",
    "        mid = length // 2\n",
    "        left = digits[:mid]\n",
    "        right = digits[mid + 1:]\n",
    "    else:\n",
    "        mid_left = length // 2 - 1\n",
    "        mid_right = length // 2\n",
    "        left = digits[:mid_left]\n",
    "        right = digits[mid_right + 1:]\n",
    "    \n",
    "    sum_left = sum(int(d) for d in left)\n",
    "    sum_right = sum(int(d) for d in right)\n",
    "    \n",
    "    return sum_left == sum_right\n",
    "\n",
    "\n",
    "class TestBalancedNumber(unittest.TestCase):\n",
    "    def test_odd_length_balanced(self):\n",
    "        self.assertTrue(is_balanced_number(12321))\n",
    "    \n",
    "    def test_even_length_balanced(self):\n",
    "        self.assertTrue(is_balanced_number(123321))\n",
    "    \n",
    "    def test_odd_length_unbalanced(self):\n",
    "        self.assertFalse(is_balanced_number(12345))\n",
    "    \n",
    "    def test_even_length_unbalanced(self):\n",
    "        self.assertFalse(is_balanced_number(1234))\n",
    "    \n",
    "    def test_single_digit(self):\n",
    "        self.assertTrue(is_balanced_number(7))\n",
    "    \n",
    "    def test_two_digits(self):\n",
    "        self.assertTrue(is_balanced_number(33))\n",
    "\n",
    "unittest.main(argv=[''], exit=False)"
   ]
  },
  {
   "cell_type": "code",
   "execution_count": null,
   "metadata": {},
   "outputs": [],
   "source": []
  }
 ],
 "metadata": {
  "colab": {
   "provenance": []
  },
  "kernelspec": {
   "display_name": "Python 3 (ipykernel)",
   "language": "python",
   "name": "python3"
  },
  "language_info": {
   "codemirror_mode": {
    "name": "ipython",
    "version": 3
   },
   "file_extension": ".py",
   "mimetype": "text/x-python",
   "name": "python",
   "nbconvert_exporter": "python",
   "pygments_lexer": "ipython3",
   "version": "3.13.2"
  }
 },
 "nbformat": 4,
 "nbformat_minor": 4
}
